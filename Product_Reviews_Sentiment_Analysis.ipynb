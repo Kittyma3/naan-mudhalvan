{
  "metadata": {
    "kernelspec": {
      "language": "python",
      "display_name": "Python 3",
      "name": "python3"
    },
    "language_info": {
      "name": "python",
      "version": "3.7.12",
      "mimetype": "text/x-python",
      "codemirror_mode": {
        "name": "ipython",
        "version": 3
      },
      "pygments_lexer": "ipython3",
      "nbconvert_exporter": "python",
      "file_extension": ".py"
    },
    "kaggle": {
      "accelerator": "none",
      "dataSources": [
        {
          "sourceId": 861634,
          "sourceType": "datasetVersion",
          "datasetId": 363619
        }
      ],
      "dockerImageVersionId": 30380,
      "isInternetEnabled": false,
      "language": "python",
      "sourceType": "notebook",
      "isGpuEnabled": false
    },
    "colab": {
      "name": "Product Reviews Sentiment Analysis",
      "provenance": [],
      "include_colab_link": true
    }
  },
  "nbformat_minor": 0,
  "nbformat": 4,
  "cells": [
    {
      "cell_type": "markdown",
      "metadata": {
        "id": "view-in-github",
        "colab_type": "text"
      },
      "source": [
        "<a href=\"https://colab.research.google.com/github/Kittyma3/naan-mudhalvan/blob/main/Product_Reviews_Sentiment_Analysis.ipynb\" target=\"_parent\"><img src=\"https://colab.research.google.com/assets/colab-badge.svg\" alt=\"Open In Colab\"/></a>"
      ]
    },
    {
      "source": [
        "\n",
        "# IMPORTANT: RUN THIS CELL IN ORDER TO IMPORT YOUR KAGGLE DATA SOURCES\n",
        "# TO THE CORRECT LOCATION (/kaggle/input) IN YOUR NOTEBOOK,\n",
        "# THEN FEEL FREE TO DELETE THIS CELL.\n",
        "# NOTE: THIS NOTEBOOK ENVIRONMENT DIFFERS FROM KAGGLE'S PYTHON\n",
        "# ENVIRONMENT SO THERE MAY BE MISSING LIBRARIES USED BY YOUR\n",
        "# NOTEBOOK.\n",
        "\n",
        "import os\n",
        "import sys\n",
        "from tempfile import NamedTemporaryFile\n",
        "from urllib.request import urlopen\n",
        "from urllib.parse import unquote, urlparse\n",
        "from urllib.error import HTTPError\n",
        "from zipfile import ZipFile\n",
        "import tarfile\n",
        "import shutil\n",
        "\n",
        "CHUNK_SIZE = 40960\n",
        "DATA_SOURCE_MAPPING = 'amazon-cell-phones-reviews:https%3A%2F%2Fstorage.googleapis.com%2Fkaggle-data-sets%2F363619%2F861634%2Fbundle%2Farchive.zip%3FX-Goog-Algorithm%3DGOOG4-RSA-SHA256%26X-Goog-Credential%3Dgcp-kaggle-com%2540kaggle-161607.iam.gserviceaccount.com%252F20240509%252Fauto%252Fstorage%252Fgoog4_request%26X-Goog-Date%3D20240509T135232Z%26X-Goog-Expires%3D259200%26X-Goog-SignedHeaders%3Dhost%26X-Goog-Signature%3D73bfbc23e65c9cab3b1b26640e2d5f617f02211766e68fe06bcb159f9a3014802f5999c3890b4a2edf5b6e2fb5359cf2527c18670da243d76e7eea8721e0969538ef55f221743dd1586b42ecd3f7ca684490911195180a43e1c1a31d8044168e420de621c176e4cf77aa9cc5b86e05b58494d82a4ae3ec5bf3bb606b27a2cf9df1ff208f2cd8f472665bed54034cd21c5706a7f296753619b60b058214e035034ffebfa058d73ff9583a3f8946156deae8960090e6d10712f39ab911bc7af68916bbbc78d804aab567f5749f7c283c28c1295f521d9926c8cfd9aadf55888ba9bce0473acbd68f83f86a1f23fa3646134b06f92b1707e3bfae0c80e4f80c2669'\n",
        "\n",
        "KAGGLE_INPUT_PATH='/kaggle/input'\n",
        "KAGGLE_WORKING_PATH='/kaggle/working'\n",
        "KAGGLE_SYMLINK='kaggle'\n",
        "\n",
        "!umount /kaggle/input/ 2> /dev/null\n",
        "shutil.rmtree('/kaggle/input', ignore_errors=True)\n",
        "os.makedirs(KAGGLE_INPUT_PATH, 0o777, exist_ok=True)\n",
        "os.makedirs(KAGGLE_WORKING_PATH, 0o777, exist_ok=True)\n",
        "\n",
        "try:\n",
        "  os.symlink(KAGGLE_INPUT_PATH, os.path.join(\"..\", 'input'), target_is_directory=True)\n",
        "except FileExistsError:\n",
        "  pass\n",
        "try:\n",
        "  os.symlink(KAGGLE_WORKING_PATH, os.path.join(\"..\", 'working'), target_is_directory=True)\n",
        "except FileExistsError:\n",
        "  pass\n",
        "\n",
        "for data_source_mapping in DATA_SOURCE_MAPPING.split(','):\n",
        "    directory, download_url_encoded = data_source_mapping.split(':')\n",
        "    download_url = unquote(download_url_encoded)\n",
        "    filename = urlparse(download_url).path\n",
        "    destination_path = os.path.join(KAGGLE_INPUT_PATH, directory)\n",
        "    try:\n",
        "        with urlopen(download_url) as fileres, NamedTemporaryFile() as tfile:\n",
        "            total_length = fileres.headers['content-length']\n",
        "            print(f'Downloading {directory}, {total_length} bytes compressed')\n",
        "            dl = 0\n",
        "            data = fileres.read(CHUNK_SIZE)\n",
        "            while len(data) > 0:\n",
        "                dl += len(data)\n",
        "                tfile.write(data)\n",
        "                done = int(50 * dl / int(total_length))\n",
        "                sys.stdout.write(f\"\\r[{'=' * done}{' ' * (50-done)}] {dl} bytes downloaded\")\n",
        "                sys.stdout.flush()\n",
        "                data = fileres.read(CHUNK_SIZE)\n",
        "            if filename.endswith('.zip'):\n",
        "              with ZipFile(tfile) as zfile:\n",
        "                zfile.extractall(destination_path)\n",
        "            else:\n",
        "              with tarfile.open(tfile.name) as tarfile:\n",
        "                tarfile.extractall(destination_path)\n",
        "            print(f'\\nDownloaded and uncompressed: {directory}')\n",
        "    except HTTPError as e:\n",
        "        print(f'Failed to load (likely expired) {download_url} to path {destination_path}')\n",
        "        continue\n",
        "    except OSError as e:\n",
        "        print(f'Failed to load {download_url} to path {destination_path}')\n",
        "        continue\n",
        "\n",
        "print('Data source import complete.')\n"
      ],
      "metadata": {
        "colab": {
          "base_uri": "https://localhost:8080/"
        },
        "id": "qAAlQ0opoJM1",
        "outputId": "554552aa-48a6-423e-bb62-1b7e1c08ee38"
      },
      "cell_type": "code",
      "outputs": [
        {
          "output_type": "stream",
          "name": "stdout",
          "text": [
            "Downloading amazon-cell-phones-reviews, 9274620 bytes compressed\n",
            "[==================================================] 9274620 bytes downloaded\n",
            "Downloaded and uncompressed: amazon-cell-phones-reviews\n",
            "Data source import complete.\n"
          ]
        }
      ],
      "execution_count": 18
    },
    {
      "cell_type": "code",
      "source": [
        "# This Python 3 environment comes with many helpful analytics libraries installed\n",
        "# It is defined by the kaggle/python Docker image: https://github.com/kaggle/docker-python\n",
        "# For example, here's several helpful packages to load\n",
        "\n",
        "import numpy as np # linear algebra\n",
        "import pandas as pd # data processing, CSV file I/O (e.g. pd.read_csv)\n",
        "\n",
        "# Input data files are available in the read-only \"../input/\" directory\n",
        "# For example, running this (by clicking run or pressing Shift+Enter) will list all files under the input directory\n",
        "\n",
        "import os\n",
        "for dirname, _, filenames in os.walk('/kaggle/input'):\n",
        "    for filename in filenames:\n",
        "        print(os.path.join(dirname, filename))\n",
        "\n",
        "# You can write up to 20GB to the current directory (/kaggle/working/) that gets preserved as output when you create a version using \"Save & Run All\"\n",
        "# You can also write temporary files to /kaggle/temp/, but they won't be saved outside of the current session"
      ],
      "metadata": {
        "_uuid": "8f2839f25d086af736a60e9eeb907d3b93b6e0e5",
        "_cell_guid": "b1076dfc-b9ad-4769-8c92-a6c4dae69d19",
        "execution": {
          "iopub.status.busy": "2024-05-09T13:43:45.071922Z",
          "iopub.execute_input": "2024-05-09T13:43:45.072332Z",
          "iopub.status.idle": "2024-05-09T13:43:45.086649Z",
          "shell.execute_reply.started": "2024-05-09T13:43:45.072298Z",
          "shell.execute_reply": "2024-05-09T13:43:45.085317Z"
        },
        "trusted": true,
        "colab": {
          "base_uri": "https://localhost:8080/"
        },
        "id": "QsVXXf7IoJM5",
        "outputId": "1a7e826c-d1d8-4eb9-b459-04e9cfe0a0c9"
      },
      "execution_count": 19,
      "outputs": [
        {
          "output_type": "stream",
          "name": "stdout",
          "text": [
            "/kaggle/input/amazon-cell-phones-reviews/20191226-items.csv\n",
            "/kaggle/input/amazon-cell-phones-reviews/20191226-reviews.csv\n"
          ]
        }
      ]
    },
    {
      "cell_type": "code",
      "source": [
        "import pandas as pd\n",
        "import seaborn as sns\n",
        "import matplotlib.pyplot as plt\n",
        "from nltk.sentiment.vader import SentimentIntensityAnalyzer\n",
        "import nltk\n",
        "nltk.download('vader_lexicon')"
      ],
      "metadata": {
        "execution": {
          "iopub.status.busy": "2024-05-09T13:43:45.103907Z",
          "iopub.execute_input": "2024-05-09T13:43:45.105046Z",
          "iopub.status.idle": "2024-05-09T13:43:46.652537Z",
          "shell.execute_reply.started": "2024-05-09T13:43:45.104996Z",
          "shell.execute_reply": "2024-05-09T13:43:46.650747Z"
        },
        "trusted": true,
        "colab": {
          "base_uri": "https://localhost:8080/"
        },
        "id": "ImQmJtZ4oJM7",
        "outputId": "59b58611-1769-4a59-a4e5-6ed82a4844e7"
      },
      "execution_count": 20,
      "outputs": [
        {
          "output_type": "stream",
          "name": "stderr",
          "text": [
            "[nltk_data] Downloading package vader_lexicon to /root/nltk_data...\n",
            "[nltk_data]   Package vader_lexicon is already up-to-date!\n"
          ]
        },
        {
          "output_type": "execute_result",
          "data": {
            "text/plain": [
              "True"
            ]
          },
          "metadata": {},
          "execution_count": 20
        }
      ]
    },
    {
      "cell_type": "code",
      "source": [
        "sentiments = SentimentIntensityAnalyzer()"
      ],
      "metadata": {
        "id": "M6cij86IEdC4"
      },
      "execution_count": 21,
      "outputs": []
    },
    {
      "cell_type": "code",
      "source": [
        "data = pd.read_csv(\"/kaggle/input/amazon-cell-phones-reviews/20191226-reviews.csv\")\n",
        "print(data.head())"
      ],
      "metadata": {
        "execution": {
          "iopub.status.busy": "2024-05-09T13:43:46.655813Z",
          "iopub.execute_input": "2024-05-09T13:43:46.656797Z",
          "iopub.status.idle": "2024-05-09T13:43:47.626327Z",
          "shell.execute_reply.started": "2024-05-09T13:43:46.656727Z",
          "shell.execute_reply": "2024-05-09T13:43:47.624898Z"
        },
        "trusted": true,
        "colab": {
          "base_uri": "https://localhost:8080/"
        },
        "id": "Nt7DZQDqoJM9",
        "outputId": "43ada5e7-e7c3-4180-b7a9-28d63346b24c"
      },
      "execution_count": 22,
      "outputs": [
        {
          "output_type": "stream",
          "name": "stdout",
          "text": [
            "         asin           name  rating               date  verified  \\\n",
            "0  B0000SX2UC          Janet       3   October 11, 2005     False   \n",
            "1  B0000SX2UC     Luke Wyatt       1    January 7, 2004     False   \n",
            "2  B0000SX2UC         Brooke       5  December 30, 2003     False   \n",
            "3  B0000SX2UC  amy m. teague       3     March 18, 2004     False   \n",
            "4  B0000SX2UC  tristazbimmer       4    August 28, 2005     False   \n",
            "\n",
            "                                          title  \\\n",
            "0                   Def not best, but not worst   \n",
            "1                   Text Messaging Doesn't Work   \n",
            "2                               Love This Phone   \n",
            "3                       Love the Phone, BUT...!   \n",
            "4  Great phone service and options, lousy case!   \n",
            "\n",
            "                                                body  helpfulVotes  \n",
            "0  I had the Samsung A600 for awhile which is abs...           1.0  \n",
            "1  Due to a software issue between Nokia and Spri...          17.0  \n",
            "2  This is a great, reliable phone. I also purcha...           5.0  \n",
            "3  I love the phone and all, because I really did...           1.0  \n",
            "4  The phone has been great for every purpose it ...           1.0  \n"
          ]
        }
      ]
    },
    {
      "cell_type": "code",
      "source": [
        "print(data.describe())"
      ],
      "metadata": {
        "execution": {
          "iopub.status.busy": "2024-05-09T13:43:47.627899Z",
          "iopub.execute_input": "2024-05-09T13:43:47.62829Z",
          "iopub.status.idle": "2024-05-09T13:43:47.681606Z",
          "shell.execute_reply.started": "2024-05-09T13:43:47.628235Z",
          "shell.execute_reply": "2024-05-09T13:43:47.680053Z"
        },
        "trusted": true,
        "colab": {
          "base_uri": "https://localhost:8080/"
        },
        "id": "MVnnWbmhoJM-",
        "outputId": "5340e3d4-b535-470b-aa54-b9495ed49736"
      },
      "execution_count": 23,
      "outputs": [
        {
          "output_type": "stream",
          "name": "stdout",
          "text": [
            "             rating  helpfulVotes\n",
            "count  67986.000000  27215.000000\n",
            "mean       3.807916      8.229690\n",
            "std        1.582906     31.954877\n",
            "min        1.000000      1.000000\n",
            "25%        3.000000      1.000000\n",
            "50%        5.000000      2.000000\n",
            "75%        5.000000      5.000000\n",
            "max        5.000000    990.000000\n"
          ]
        }
      ]
    },
    {
      "cell_type": "code",
      "source": [
        "data = data.dropna()\n",
        "data"
      ],
      "metadata": {
        "execution": {
          "iopub.status.busy": "2024-05-09T13:43:47.685924Z",
          "iopub.execute_input": "2024-05-09T13:43:47.687617Z",
          "iopub.status.idle": "2024-05-09T13:43:47.792256Z",
          "shell.execute_reply.started": "2024-05-09T13:43:47.687553Z",
          "shell.execute_reply": "2024-05-09T13:43:47.790967Z"
        },
        "trusted": true,
        "colab": {
          "base_uri": "https://localhost:8080/",
          "height": 597
        },
        "id": "BIAyME7joJM-",
        "outputId": "05f2e18b-b6f4-49c3-a45c-8cd92954a292"
      },
      "execution_count": 24,
      "outputs": [
        {
          "output_type": "execute_result",
          "data": {
            "text/plain": [
              "             asin           name  rating                date  verified  \\\n",
              "0      B0000SX2UC          Janet       3    October 11, 2005     False   \n",
              "1      B0000SX2UC     Luke Wyatt       1     January 7, 2004     False   \n",
              "2      B0000SX2UC         Brooke       5   December 30, 2003     False   \n",
              "3      B0000SX2UC  amy m. teague       3      March 18, 2004     False   \n",
              "4      B0000SX2UC  tristazbimmer       4     August 28, 2005     False   \n",
              "...           ...            ...     ...                 ...       ...   \n",
              "67978  B081H6STQQ      Rock Edge       5       July 16, 2019     False   \n",
              "67979  B081H6STQQ   Cindy Cowles       3       July 17, 2019     False   \n",
              "67980  B081H6STQQ    Los Kositos       5     October 7, 2019     False   \n",
              "67981  B081H6STQQ          jande       5     August 16, 2019     False   \n",
              "67982  B081H6STQQ        2cool4u       5  September 14, 2019     False   \n",
              "\n",
              "                                                   title  \\\n",
              "0                            Def not best, but not worst   \n",
              "1                            Text Messaging Doesn't Work   \n",
              "2                                        Love This Phone   \n",
              "3                                Love the Phone, BUT...!   \n",
              "4           Great phone service and options, lousy case!   \n",
              "...                                                  ...   \n",
              "67978                           Candy bar phone is back!   \n",
              "67979                                     Updated review   \n",
              "67980               From iPhone to Android and loving it   \n",
              "67981  Awesome Phone, but finger scanner is a big mis...   \n",
              "67982                                    Simply Amazing!   \n",
              "\n",
              "                                                    body  helpfulVotes  \n",
              "0      I had the Samsung A600 for awhile which is abs...           1.0  \n",
              "1      Due to a software issue between Nokia and Spri...          17.0  \n",
              "2      This is a great, reliable phone. I also purcha...           5.0  \n",
              "3      I love the phone and all, because I really did...           1.0  \n",
              "4      The phone has been great for every purpose it ...           1.0  \n",
              "...                                                  ...           ...  \n",
              "67978  Update 8/14/19 5 stars now! I've been using th...          12.0  \n",
              "67979  Update: If you like sending and receiving pict...           2.0  \n",
              "67980  I love my new phone. I've been dying to do a r...           1.0  \n",
              "67981  I love the camera on this phone. The screen is...           1.0  \n",
              "67982  I've been an Xperia user for several years and...           1.0  \n",
              "\n",
              "[27203 rows x 8 columns]"
            ],
            "text/html": [
              "\n",
              "  <div id=\"df-08faedae-2fda-4360-a191-dda2ccb2d829\" class=\"colab-df-container\">\n",
              "    <div>\n",
              "<style scoped>\n",
              "    .dataframe tbody tr th:only-of-type {\n",
              "        vertical-align: middle;\n",
              "    }\n",
              "\n",
              "    .dataframe tbody tr th {\n",
              "        vertical-align: top;\n",
              "    }\n",
              "\n",
              "    .dataframe thead th {\n",
              "        text-align: right;\n",
              "    }\n",
              "</style>\n",
              "<table border=\"1\" class=\"dataframe\">\n",
              "  <thead>\n",
              "    <tr style=\"text-align: right;\">\n",
              "      <th></th>\n",
              "      <th>asin</th>\n",
              "      <th>name</th>\n",
              "      <th>rating</th>\n",
              "      <th>date</th>\n",
              "      <th>verified</th>\n",
              "      <th>title</th>\n",
              "      <th>body</th>\n",
              "      <th>helpfulVotes</th>\n",
              "    </tr>\n",
              "  </thead>\n",
              "  <tbody>\n",
              "    <tr>\n",
              "      <th>0</th>\n",
              "      <td>B0000SX2UC</td>\n",
              "      <td>Janet</td>\n",
              "      <td>3</td>\n",
              "      <td>October 11, 2005</td>\n",
              "      <td>False</td>\n",
              "      <td>Def not best, but not worst</td>\n",
              "      <td>I had the Samsung A600 for awhile which is abs...</td>\n",
              "      <td>1.0</td>\n",
              "    </tr>\n",
              "    <tr>\n",
              "      <th>1</th>\n",
              "      <td>B0000SX2UC</td>\n",
              "      <td>Luke Wyatt</td>\n",
              "      <td>1</td>\n",
              "      <td>January 7, 2004</td>\n",
              "      <td>False</td>\n",
              "      <td>Text Messaging Doesn't Work</td>\n",
              "      <td>Due to a software issue between Nokia and Spri...</td>\n",
              "      <td>17.0</td>\n",
              "    </tr>\n",
              "    <tr>\n",
              "      <th>2</th>\n",
              "      <td>B0000SX2UC</td>\n",
              "      <td>Brooke</td>\n",
              "      <td>5</td>\n",
              "      <td>December 30, 2003</td>\n",
              "      <td>False</td>\n",
              "      <td>Love This Phone</td>\n",
              "      <td>This is a great, reliable phone. I also purcha...</td>\n",
              "      <td>5.0</td>\n",
              "    </tr>\n",
              "    <tr>\n",
              "      <th>3</th>\n",
              "      <td>B0000SX2UC</td>\n",
              "      <td>amy m. teague</td>\n",
              "      <td>3</td>\n",
              "      <td>March 18, 2004</td>\n",
              "      <td>False</td>\n",
              "      <td>Love the Phone, BUT...!</td>\n",
              "      <td>I love the phone and all, because I really did...</td>\n",
              "      <td>1.0</td>\n",
              "    </tr>\n",
              "    <tr>\n",
              "      <th>4</th>\n",
              "      <td>B0000SX2UC</td>\n",
              "      <td>tristazbimmer</td>\n",
              "      <td>4</td>\n",
              "      <td>August 28, 2005</td>\n",
              "      <td>False</td>\n",
              "      <td>Great phone service and options, lousy case!</td>\n",
              "      <td>The phone has been great for every purpose it ...</td>\n",
              "      <td>1.0</td>\n",
              "    </tr>\n",
              "    <tr>\n",
              "      <th>...</th>\n",
              "      <td>...</td>\n",
              "      <td>...</td>\n",
              "      <td>...</td>\n",
              "      <td>...</td>\n",
              "      <td>...</td>\n",
              "      <td>...</td>\n",
              "      <td>...</td>\n",
              "      <td>...</td>\n",
              "    </tr>\n",
              "    <tr>\n",
              "      <th>67978</th>\n",
              "      <td>B081H6STQQ</td>\n",
              "      <td>Rock Edge</td>\n",
              "      <td>5</td>\n",
              "      <td>July 16, 2019</td>\n",
              "      <td>False</td>\n",
              "      <td>Candy bar phone is back!</td>\n",
              "      <td>Update 8/14/19 5 stars now! I've been using th...</td>\n",
              "      <td>12.0</td>\n",
              "    </tr>\n",
              "    <tr>\n",
              "      <th>67979</th>\n",
              "      <td>B081H6STQQ</td>\n",
              "      <td>Cindy Cowles</td>\n",
              "      <td>3</td>\n",
              "      <td>July 17, 2019</td>\n",
              "      <td>False</td>\n",
              "      <td>Updated review</td>\n",
              "      <td>Update: If you like sending and receiving pict...</td>\n",
              "      <td>2.0</td>\n",
              "    </tr>\n",
              "    <tr>\n",
              "      <th>67980</th>\n",
              "      <td>B081H6STQQ</td>\n",
              "      <td>Los Kositos</td>\n",
              "      <td>5</td>\n",
              "      <td>October 7, 2019</td>\n",
              "      <td>False</td>\n",
              "      <td>From iPhone to Android and loving it</td>\n",
              "      <td>I love my new phone. I've been dying to do a r...</td>\n",
              "      <td>1.0</td>\n",
              "    </tr>\n",
              "    <tr>\n",
              "      <th>67981</th>\n",
              "      <td>B081H6STQQ</td>\n",
              "      <td>jande</td>\n",
              "      <td>5</td>\n",
              "      <td>August 16, 2019</td>\n",
              "      <td>False</td>\n",
              "      <td>Awesome Phone, but finger scanner is a big mis...</td>\n",
              "      <td>I love the camera on this phone. The screen is...</td>\n",
              "      <td>1.0</td>\n",
              "    </tr>\n",
              "    <tr>\n",
              "      <th>67982</th>\n",
              "      <td>B081H6STQQ</td>\n",
              "      <td>2cool4u</td>\n",
              "      <td>5</td>\n",
              "      <td>September 14, 2019</td>\n",
              "      <td>False</td>\n",
              "      <td>Simply Amazing!</td>\n",
              "      <td>I've been an Xperia user for several years and...</td>\n",
              "      <td>1.0</td>\n",
              "    </tr>\n",
              "  </tbody>\n",
              "</table>\n",
              "<p>27203 rows × 8 columns</p>\n",
              "</div>\n",
              "    <div class=\"colab-df-buttons\">\n",
              "\n",
              "  <div class=\"colab-df-container\">\n",
              "    <button class=\"colab-df-convert\" onclick=\"convertToInteractive('df-08faedae-2fda-4360-a191-dda2ccb2d829')\"\n",
              "            title=\"Convert this dataframe to an interactive table.\"\n",
              "            style=\"display:none;\">\n",
              "\n",
              "  <svg xmlns=\"http://www.w3.org/2000/svg\" height=\"24px\" viewBox=\"0 -960 960 960\">\n",
              "    <path d=\"M120-120v-720h720v720H120Zm60-500h600v-160H180v160Zm220 220h160v-160H400v160Zm0 220h160v-160H400v160ZM180-400h160v-160H180v160Zm440 0h160v-160H620v160ZM180-180h160v-160H180v160Zm440 0h160v-160H620v160Z\"/>\n",
              "  </svg>\n",
              "    </button>\n",
              "\n",
              "  <style>\n",
              "    .colab-df-container {\n",
              "      display:flex;\n",
              "      gap: 12px;\n",
              "    }\n",
              "\n",
              "    .colab-df-convert {\n",
              "      background-color: #E8F0FE;\n",
              "      border: none;\n",
              "      border-radius: 50%;\n",
              "      cursor: pointer;\n",
              "      display: none;\n",
              "      fill: #1967D2;\n",
              "      height: 32px;\n",
              "      padding: 0 0 0 0;\n",
              "      width: 32px;\n",
              "    }\n",
              "\n",
              "    .colab-df-convert:hover {\n",
              "      background-color: #E2EBFA;\n",
              "      box-shadow: 0px 1px 2px rgba(60, 64, 67, 0.3), 0px 1px 3px 1px rgba(60, 64, 67, 0.15);\n",
              "      fill: #174EA6;\n",
              "    }\n",
              "\n",
              "    .colab-df-buttons div {\n",
              "      margin-bottom: 4px;\n",
              "    }\n",
              "\n",
              "    [theme=dark] .colab-df-convert {\n",
              "      background-color: #3B4455;\n",
              "      fill: #D2E3FC;\n",
              "    }\n",
              "\n",
              "    [theme=dark] .colab-df-convert:hover {\n",
              "      background-color: #434B5C;\n",
              "      box-shadow: 0px 1px 3px 1px rgba(0, 0, 0, 0.15);\n",
              "      filter: drop-shadow(0px 1px 2px rgba(0, 0, 0, 0.3));\n",
              "      fill: #FFFFFF;\n",
              "    }\n",
              "  </style>\n",
              "\n",
              "    <script>\n",
              "      const buttonEl =\n",
              "        document.querySelector('#df-08faedae-2fda-4360-a191-dda2ccb2d829 button.colab-df-convert');\n",
              "      buttonEl.style.display =\n",
              "        google.colab.kernel.accessAllowed ? 'block' : 'none';\n",
              "\n",
              "      async function convertToInteractive(key) {\n",
              "        const element = document.querySelector('#df-08faedae-2fda-4360-a191-dda2ccb2d829');\n",
              "        const dataTable =\n",
              "          await google.colab.kernel.invokeFunction('convertToInteractive',\n",
              "                                                    [key], {});\n",
              "        if (!dataTable) return;\n",
              "\n",
              "        const docLinkHtml = 'Like what you see? Visit the ' +\n",
              "          '<a target=\"_blank\" href=https://colab.research.google.com/notebooks/data_table.ipynb>data table notebook</a>'\n",
              "          + ' to learn more about interactive tables.';\n",
              "        element.innerHTML = '';\n",
              "        dataTable['output_type'] = 'display_data';\n",
              "        await google.colab.output.renderOutput(dataTable, element);\n",
              "        const docLink = document.createElement('div');\n",
              "        docLink.innerHTML = docLinkHtml;\n",
              "        element.appendChild(docLink);\n",
              "      }\n",
              "    </script>\n",
              "  </div>\n",
              "\n",
              "\n",
              "<div id=\"df-7339e465-7ff8-408d-9bb4-5d6301edc1c5\">\n",
              "  <button class=\"colab-df-quickchart\" onclick=\"quickchart('df-7339e465-7ff8-408d-9bb4-5d6301edc1c5')\"\n",
              "            title=\"Suggest charts\"\n",
              "            style=\"display:none;\">\n",
              "\n",
              "<svg xmlns=\"http://www.w3.org/2000/svg\" height=\"24px\"viewBox=\"0 0 24 24\"\n",
              "     width=\"24px\">\n",
              "    <g>\n",
              "        <path d=\"M19 3H5c-1.1 0-2 .9-2 2v14c0 1.1.9 2 2 2h14c1.1 0 2-.9 2-2V5c0-1.1-.9-2-2-2zM9 17H7v-7h2v7zm4 0h-2V7h2v10zm4 0h-2v-4h2v4z\"/>\n",
              "    </g>\n",
              "</svg>\n",
              "  </button>\n",
              "\n",
              "<style>\n",
              "  .colab-df-quickchart {\n",
              "      --bg-color: #E8F0FE;\n",
              "      --fill-color: #1967D2;\n",
              "      --hover-bg-color: #E2EBFA;\n",
              "      --hover-fill-color: #174EA6;\n",
              "      --disabled-fill-color: #AAA;\n",
              "      --disabled-bg-color: #DDD;\n",
              "  }\n",
              "\n",
              "  [theme=dark] .colab-df-quickchart {\n",
              "      --bg-color: #3B4455;\n",
              "      --fill-color: #D2E3FC;\n",
              "      --hover-bg-color: #434B5C;\n",
              "      --hover-fill-color: #FFFFFF;\n",
              "      --disabled-bg-color: #3B4455;\n",
              "      --disabled-fill-color: #666;\n",
              "  }\n",
              "\n",
              "  .colab-df-quickchart {\n",
              "    background-color: var(--bg-color);\n",
              "    border: none;\n",
              "    border-radius: 50%;\n",
              "    cursor: pointer;\n",
              "    display: none;\n",
              "    fill: var(--fill-color);\n",
              "    height: 32px;\n",
              "    padding: 0;\n",
              "    width: 32px;\n",
              "  }\n",
              "\n",
              "  .colab-df-quickchart:hover {\n",
              "    background-color: var(--hover-bg-color);\n",
              "    box-shadow: 0 1px 2px rgba(60, 64, 67, 0.3), 0 1px 3px 1px rgba(60, 64, 67, 0.15);\n",
              "    fill: var(--button-hover-fill-color);\n",
              "  }\n",
              "\n",
              "  .colab-df-quickchart-complete:disabled,\n",
              "  .colab-df-quickchart-complete:disabled:hover {\n",
              "    background-color: var(--disabled-bg-color);\n",
              "    fill: var(--disabled-fill-color);\n",
              "    box-shadow: none;\n",
              "  }\n",
              "\n",
              "  .colab-df-spinner {\n",
              "    border: 2px solid var(--fill-color);\n",
              "    border-color: transparent;\n",
              "    border-bottom-color: var(--fill-color);\n",
              "    animation:\n",
              "      spin 1s steps(1) infinite;\n",
              "  }\n",
              "\n",
              "  @keyframes spin {\n",
              "    0% {\n",
              "      border-color: transparent;\n",
              "      border-bottom-color: var(--fill-color);\n",
              "      border-left-color: var(--fill-color);\n",
              "    }\n",
              "    20% {\n",
              "      border-color: transparent;\n",
              "      border-left-color: var(--fill-color);\n",
              "      border-top-color: var(--fill-color);\n",
              "    }\n",
              "    30% {\n",
              "      border-color: transparent;\n",
              "      border-left-color: var(--fill-color);\n",
              "      border-top-color: var(--fill-color);\n",
              "      border-right-color: var(--fill-color);\n",
              "    }\n",
              "    40% {\n",
              "      border-color: transparent;\n",
              "      border-right-color: var(--fill-color);\n",
              "      border-top-color: var(--fill-color);\n",
              "    }\n",
              "    60% {\n",
              "      border-color: transparent;\n",
              "      border-right-color: var(--fill-color);\n",
              "    }\n",
              "    80% {\n",
              "      border-color: transparent;\n",
              "      border-right-color: var(--fill-color);\n",
              "      border-bottom-color: var(--fill-color);\n",
              "    }\n",
              "    90% {\n",
              "      border-color: transparent;\n",
              "      border-bottom-color: var(--fill-color);\n",
              "    }\n",
              "  }\n",
              "</style>\n",
              "\n",
              "  <script>\n",
              "    async function quickchart(key) {\n",
              "      const quickchartButtonEl =\n",
              "        document.querySelector('#' + key + ' button');\n",
              "      quickchartButtonEl.disabled = true;  // To prevent multiple clicks.\n",
              "      quickchartButtonEl.classList.add('colab-df-spinner');\n",
              "      try {\n",
              "        const charts = await google.colab.kernel.invokeFunction(\n",
              "            'suggestCharts', [key], {});\n",
              "      } catch (error) {\n",
              "        console.error('Error during call to suggestCharts:', error);\n",
              "      }\n",
              "      quickchartButtonEl.classList.remove('colab-df-spinner');\n",
              "      quickchartButtonEl.classList.add('colab-df-quickchart-complete');\n",
              "    }\n",
              "    (() => {\n",
              "      let quickchartButtonEl =\n",
              "        document.querySelector('#df-7339e465-7ff8-408d-9bb4-5d6301edc1c5 button');\n",
              "      quickchartButtonEl.style.display =\n",
              "        google.colab.kernel.accessAllowed ? 'block' : 'none';\n",
              "    })();\n",
              "  </script>\n",
              "</div>\n",
              "\n",
              "  <div id=\"id_668a6026-500e-4703-bfd1-ccbaddc27c0a\">\n",
              "    <style>\n",
              "      .colab-df-generate {\n",
              "        background-color: #E8F0FE;\n",
              "        border: none;\n",
              "        border-radius: 50%;\n",
              "        cursor: pointer;\n",
              "        display: none;\n",
              "        fill: #1967D2;\n",
              "        height: 32px;\n",
              "        padding: 0 0 0 0;\n",
              "        width: 32px;\n",
              "      }\n",
              "\n",
              "      .colab-df-generate:hover {\n",
              "        background-color: #E2EBFA;\n",
              "        box-shadow: 0px 1px 2px rgba(60, 64, 67, 0.3), 0px 1px 3px 1px rgba(60, 64, 67, 0.15);\n",
              "        fill: #174EA6;\n",
              "      }\n",
              "\n",
              "      [theme=dark] .colab-df-generate {\n",
              "        background-color: #3B4455;\n",
              "        fill: #D2E3FC;\n",
              "      }\n",
              "\n",
              "      [theme=dark] .colab-df-generate:hover {\n",
              "        background-color: #434B5C;\n",
              "        box-shadow: 0px 1px 3px 1px rgba(0, 0, 0, 0.15);\n",
              "        filter: drop-shadow(0px 1px 2px rgba(0, 0, 0, 0.3));\n",
              "        fill: #FFFFFF;\n",
              "      }\n",
              "    </style>\n",
              "    <button class=\"colab-df-generate\" onclick=\"generateWithVariable('data')\"\n",
              "            title=\"Generate code using this dataframe.\"\n",
              "            style=\"display:none;\">\n",
              "\n",
              "  <svg xmlns=\"http://www.w3.org/2000/svg\" height=\"24px\"viewBox=\"0 0 24 24\"\n",
              "       width=\"24px\">\n",
              "    <path d=\"M7,19H8.4L18.45,9,17,7.55,7,17.6ZM5,21V16.75L18.45,3.32a2,2,0,0,1,2.83,0l1.4,1.43a1.91,1.91,0,0,1,.58,1.4,1.91,1.91,0,0,1-.58,1.4L9.25,21ZM18.45,9,17,7.55Zm-12,3A5.31,5.31,0,0,0,4.9,8.1,5.31,5.31,0,0,0,1,6.5,5.31,5.31,0,0,0,4.9,4.9,5.31,5.31,0,0,0,6.5,1,5.31,5.31,0,0,0,8.1,4.9,5.31,5.31,0,0,0,12,6.5,5.46,5.46,0,0,0,6.5,12Z\"/>\n",
              "  </svg>\n",
              "    </button>\n",
              "    <script>\n",
              "      (() => {\n",
              "      const buttonEl =\n",
              "        document.querySelector('#id_668a6026-500e-4703-bfd1-ccbaddc27c0a button.colab-df-generate');\n",
              "      buttonEl.style.display =\n",
              "        google.colab.kernel.accessAllowed ? 'block' : 'none';\n",
              "\n",
              "      buttonEl.onclick = () => {\n",
              "        google.colab.notebook.generateWithVariable('data');\n",
              "      }\n",
              "      })();\n",
              "    </script>\n",
              "  </div>\n",
              "\n",
              "    </div>\n",
              "  </div>\n"
            ],
            "application/vnd.google.colaboratory.intrinsic+json": {
              "type": "dataframe",
              "variable_name": "data",
              "summary": "{\n  \"name\": \"data\",\n  \"rows\": 27203,\n  \"fields\": [\n    {\n      \"column\": \"asin\",\n      \"properties\": {\n        \"dtype\": \"category\",\n        \"num_unique_values\": 630,\n        \"samples\": [\n          \"B07Q2X19LG\",\n          \"B074VFRKZG\",\n          \"B07STDQDKF\"\n        ],\n        \"semantic_type\": \"\",\n        \"description\": \"\"\n      }\n    },\n    {\n      \"column\": \"name\",\n      \"properties\": {\n        \"dtype\": \"string\",\n        \"num_unique_values\": 19952,\n        \"samples\": [\n          \"Richard Przybylski\",\n          \"M'mbembe Deo\",\n          \"Xingbo Wu\"\n        ],\n        \"semantic_type\": \"\",\n        \"description\": \"\"\n      }\n    },\n    {\n      \"column\": \"rating\",\n      \"properties\": {\n        \"dtype\": \"number\",\n        \"std\": 1,\n        \"min\": 1,\n        \"max\": 5,\n        \"num_unique_values\": 5,\n        \"samples\": [\n          1,\n          2,\n          5\n        ],\n        \"semantic_type\": \"\",\n        \"description\": \"\"\n      }\n    },\n    {\n      \"column\": \"date\",\n      \"properties\": {\n        \"dtype\": \"object\",\n        \"num_unique_values\": 2839,\n        \"samples\": [\n          \"April 20, 2013\",\n          \"May 11, 2018\",\n          \"July 21, 2018\"\n        ],\n        \"semantic_type\": \"\",\n        \"description\": \"\"\n      }\n    },\n    {\n      \"column\": \"verified\",\n      \"properties\": {\n        \"dtype\": \"boolean\",\n        \"num_unique_values\": 2,\n        \"samples\": [\n          true,\n          false\n        ],\n        \"semantic_type\": \"\",\n        \"description\": \"\"\n      }\n    },\n    {\n      \"column\": \"title\",\n      \"properties\": {\n        \"dtype\": \"string\",\n        \"num_unique_values\": 20087,\n        \"samples\": [\n          \"4k screen is gorgeous, camera is excellent, needs the fingerprint reader enabled.\",\n          \"So far this phone has been great. I bought this phone after sending my Lumia ...\"\n        ],\n        \"semantic_type\": \"\",\n        \"description\": \"\"\n      }\n    },\n    {\n      \"column\": \"body\",\n      \"properties\": {\n        \"dtype\": \"string\",\n        \"num_unique_values\": 25268,\n        \"samples\": [\n          \"Ordered the 930V, received a 930u. The phone is in excellent shape, just caused some problems when activating on Verizon.\",\n          \"I received a fake Samsung cell phone. My carrier noticed the phone was fake.\"\n        ],\n        \"semantic_type\": \"\",\n        \"description\": \"\"\n      }\n    },\n    {\n      \"column\": \"helpfulVotes\",\n      \"properties\": {\n        \"dtype\": \"number\",\n        \"std\": 31.955040977376598,\n        \"min\": 1.0,\n        \"max\": 990.0,\n        \"num_unique_values\": 278,\n        \"samples\": [\n          70.0,\n          135.0\n        ],\n        \"semantic_type\": \"\",\n        \"description\": \"\"\n      }\n    }\n  ]\n}"
            }
          },
          "metadata": {},
          "execution_count": 24
        }
      ]
    },
    {
      "cell_type": "code",
      "source": [
        "ratings = data[\"rating\"].value_counts()\n",
        "numbers = ratings.index\n",
        "quantity = ratings.values"
      ],
      "metadata": {
        "execution": {
          "iopub.status.busy": "2024-05-09T13:43:47.794467Z",
          "iopub.execute_input": "2024-05-09T13:43:47.795417Z",
          "iopub.status.idle": "2024-05-09T13:43:47.804287Z",
          "shell.execute_reply.started": "2024-05-09T13:43:47.795365Z",
          "shell.execute_reply": "2024-05-09T13:43:47.803263Z"
        },
        "trusted": true,
        "id": "cmBunsy7oJM_"
      },
      "execution_count": 25,
      "outputs": []
    },
    {
      "cell_type": "code",
      "source": [
        "custom_colors = [\"skyblue\", \"yellowgreen\", 'tomato', \"blue\", \"red\"]\n",
        "plt.figure(figsize=(10, 8))\n",
        "plt.pie(quantity, labels=numbers, colors=custom_colors)\n",
        "central_circle = plt.Circle((0, 0), 0.5, color='white')\n",
        "fig = plt.gcf()\n",
        "fig.gca().add_artist(central_circle)\n",
        "plt.rc('font', size=12)\n",
        "plt.title(\"Product Ratings\", fontsize=20)\n",
        "plt.show()"
      ],
      "metadata": {
        "execution": {
          "iopub.status.busy": "2024-05-09T13:43:47.805868Z",
          "iopub.execute_input": "2024-05-09T13:43:47.80664Z",
          "iopub.status.idle": "2024-05-09T13:43:48.023007Z",
          "shell.execute_reply.started": "2024-05-09T13:43:47.806497Z",
          "shell.execute_reply": "2024-05-09T13:43:48.020808Z"
        },
        "trusted": true,
        "colab": {
          "base_uri": "https://localhost:8080/",
          "height": 683
        },
        "id": "ybXYYrrIoJNA",
        "outputId": "93ad4ed6-a3d2-4906-ff2c-06b381d930f5"
      },
      "execution_count": 26,
      "outputs": [
        {
          "output_type": "display_data",
          "data": {
            "text/plain": [
              "<Figure size 1000x800 with 1 Axes>"
            ],
            "image/png": "[encoded data removed]"
          },
          "metadata": {}
        }
      ]
    },
    {
      "cell_type": "code",
      "source": [
        "sentiments = SentimentIntensityAnalyzer()\n",
        "data[\"Positive\"] = [sentiments.polarity_scores(i)[\"pos\"] for i in data[\"body\"]]\n",
        "data[\"Negative\"] = [sentiments.polarity_scores(i)[\"neg\"] for i in data[\"body\"]]\n",
        "data[\"Neutral\"] = [sentiments.polarity_scores(i)[\"neu\"] for i in data[\"body\"]]\n",
        "print(data.head())"
      ],
      "metadata": {
        "execution": {
          "iopub.status.busy": "2024-05-09T13:43:48.025823Z",
          "iopub.execute_input": "2024-05-09T13:43:48.026966Z",
          "iopub.status.idle": "2024-05-09T13:46:05.168032Z",
          "shell.execute_reply.started": "2024-05-09T13:43:48.026893Z",
          "shell.execute_reply": "2024-05-09T13:46:05.166533Z"
        },
        "trusted": true,
        "colab": {
          "base_uri": "https://localhost:8080/"
        },
        "id": "ia2BRse8oJNB",
        "outputId": "bbee4e21-228e-4d8d-f6a5-952f03019862"
      },
      "execution_count": 27,
      "outputs": [
        {
          "output_type": "stream",
          "name": "stdout",
          "text": [
            "         asin           name  rating               date  verified  \\\n",
            "0  B0000SX2UC          Janet       3   October 11, 2005     False   \n",
            "1  B0000SX2UC     Luke Wyatt       1    January 7, 2004     False   \n",
            "2  B0000SX2UC         Brooke       5  December 30, 2003     False   \n",
            "3  B0000SX2UC  amy m. teague       3     March 18, 2004     False   \n",
            "4  B0000SX2UC  tristazbimmer       4    August 28, 2005     False   \n",
            "\n",
            "                                          title  \\\n",
            "0                   Def not best, but not worst   \n",
            "1                   Text Messaging Doesn't Work   \n",
            "2                               Love This Phone   \n",
            "3                       Love the Phone, BUT...!   \n",
            "4  Great phone service and options, lousy case!   \n",
            "\n",
            "                                                body  helpfulVotes  Positive  \\\n",
            "0  I had the Samsung A600 for awhile which is abs...           1.0     0.105   \n",
            "1  Due to a software issue between Nokia and Spri...          17.0     0.104   \n",
            "2  This is a great, reliable phone. I also purcha...           5.0     0.103   \n",
            "3  I love the phone and all, because I really did...           1.0     0.156   \n",
            "4  The phone has been great for every purpose it ...           1.0     0.121   \n",
            "\n",
            "   Negative  Neutral  \n",
            "0     0.080    0.816  \n",
            "1     0.020    0.876  \n",
            "2     0.051    0.846  \n",
            "3     0.000    0.844  \n",
            "4     0.066    0.814  \n"
          ]
        }
      ]
    },
    {
      "cell_type": "code",
      "source": [
        "x = sum(data[\"Positive\"])\n",
        "y = sum(data[\"Negative\"])\n",
        "z = sum(data[\"Neutral\"])\n",
        "\n",
        "def sentiment_score(a, b, c):\n",
        "    if (a>b) and (a>c):\n",
        "        print(\"Positive 😊 \")\n",
        "    elif (b>a) and (b>c):\n",
        "        print(\"Negative 😠 \")\n",
        "    else:\n",
        "        print(\"Neutral 🙂 \")\n",
        "sentiment_score(x, y, z)"
      ],
      "metadata": {
        "execution": {
          "iopub.status.busy": "2024-05-09T13:46:05.169942Z",
          "iopub.execute_input": "2024-05-09T13:46:05.170445Z",
          "iopub.status.idle": "2024-05-09T13:46:05.194325Z",
          "shell.execute_reply.started": "2024-05-09T13:46:05.170395Z",
          "shell.execute_reply": "2024-05-09T13:46:05.192837Z"
        },
        "trusted": true,
        "colab": {
          "base_uri": "https://localhost:8080/"
        },
        "id": "AdiBr-XgoJNH",
        "outputId": "434abaac-b22b-414e-dbe9-7ec3a0f294da"
      },
      "execution_count": 28,
      "outputs": [
        {
          "output_type": "stream",
          "name": "stdout",
          "text": [
            "Neutral 🙂 \n"
          ]
        }
      ]
    },
    {
      "cell_type": "code",
      "source": [
        "print(\"Positive: \", x)\n",
        "print(\"Negative: \", y)\n",
        "print(\"Neutral: \", z)"
      ],
      "metadata": {
        "execution": {
          "iopub.status.busy": "2024-05-09T13:46:05.196056Z",
          "iopub.execute_input": "2024-05-09T13:46:05.196454Z",
          "iopub.status.idle": "2024-05-09T13:46:05.211263Z",
          "shell.execute_reply.started": "2024-05-09T13:46:05.19641Z",
          "shell.execute_reply": "2024-05-09T13:46:05.209888Z"
        },
        "trusted": true,
        "colab": {
          "base_uri": "https://localhost:8080/"
        },
        "id": "qPtgmyFKoJNI",
        "outputId": "48469760-2b60-4390-a5f9-b2a6298d4f79"
      },
      "execution_count": 29,
      "outputs": [
        {
          "output_type": "stream",
          "name": "stdout",
          "text": [
            "Positive:  5021.1730000000025\n",
            "Negative:  1756.803999999994\n",
            "Neutral:  20415.93600000008\n"
          ]
        }
      ]
    },
    {
      "cell_type": "code",
      "source": [],
      "metadata": {
        "id": "ejshXM34oJNK"
      },
      "execution_count": 29,
      "outputs": []
    }
  ]
}